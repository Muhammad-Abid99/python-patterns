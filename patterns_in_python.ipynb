{
 "cells": [
  {
   "cell_type": "code",
   "execution_count": 1,
   "id": "e309102d",
   "metadata": {},
   "outputs": [
    {
     "name": "stdout",
     "output_type": "stream",
     "text": [
      "* * \n",
      "* * \n",
      "* * \n"
     ]
    }
   ],
   "source": [
    "# Printing_____in_line.\n",
    "\n",
    "for a in range(3):\n",
    "    for b in range(5,7):\n",
    "        print(\"*\", end=\" \")\n",
    "    print()\n"
   ]
  },
  {
   "cell_type": "markdown",
   "id": "9bd9cdf6",
   "metadata": {},
   "source": [
    "## What Does This Program Do?\n",
    "\n",
    "This program prints a pattern of asterisks (`*`) in a grid-like format."
   ]
  },
  {
   "cell_type": "markdown",
   "id": "eade1c33",
   "metadata": {},
   "source": [
    "### Step-by-Step Explanation\n",
    "\n",
    "1. **Outer Loop (`for a in range(3):`)**\n",
    "   - This loop runs 3 times (when `a` is 0, 1, and 2).\n",
    "   - Each iteration represents a new line (row) in the output.\n",
    "\n",
    "2. **Inner Loop (`for b in range(5,7):`)**\n",
    "   - This loop runs for each value of `b` in the range 5 to 6 (since `range(5,7)` includes 5 and 6).\n",
    "   - So, it runs 2 times for each outer loop iteration.\n",
    "\n",
    "3. **Printing (`print(\"*\", end=\" \")`)**\n",
    "   - Prints an asterisk followed by a space, and stays on the same line because of `end=\" \"`.\n",
    "\n",
    "4. **New Line (`print()`)**\n",
    "   - After the inner loop finishes, this prints a newline, moving to the next row.\n"
   ]
  }
 ],
 "metadata": {
  "kernelspec": {
   "display_name": "Python 3",
   "language": "python",
   "name": "python3"
  },
  "language_info": {
   "codemirror_mode": {
    "name": "ipython",
    "version": 3
   },
   "file_extension": ".py",
   "mimetype": "text/x-python",
   "name": "python",
   "nbconvert_exporter": "python",
   "pygments_lexer": "ipython3",
   "version": "3.9.16"
  }
 },
 "nbformat": 4,
 "nbformat_minor": 5
}
